{
 "cells": [
  {
   "cell_type": "code",
   "execution_count": 1,
   "metadata": {},
   "outputs": [],
   "source": [
    "#import all necessary packages\n",
    "import pandas as pd\n",
    "import numpy as np\n",
    "import matplotlib.pyplot as plt\n",
    "import nltk.classify.util\n",
    "from sklearn.naive_bayes import MultinomialNB\n",
    "\n",
    "from sklearn.neighbors import KNeighborsClassifier\n",
    "from sklearn.linear_model import LogisticRegression\n",
    "from sklearn.naive_bayes import MultinomialNB\n",
    "from sklearn.svm import LinearSVC\n",
    "from sklearn.metrics import confusion_matrix,auc,roc_auc_score,f1_score\n",
    "from sklearn.preprocessing import StandardScaler\n",
    "from sklearn.model_selection import train_test_split,RandomizedSearchCV\n",
    "from sklearn.feature_extraction.text import TfidfVectorizer\n",
    "from scikitplot.metrics import plot_confusion_matrix\n",
    "\n",
    "from tqdm import tqdm\n",
    "\n",
    "import re\n",
    "from bs4 import BeautifulSoup\n",
    "%matplotlib inline\n",
    "import warnings\n",
    "warnings.simplefilter(action='ignore', category=FutureWarning)\n"
   ]
  },
  {
   "cell_type": "code",
   "execution_count": 2,
   "metadata": {},
   "outputs": [
    {
     "data": {
      "text/html": [
       "<div>\n",
       "<style scoped>\n",
       "    .dataframe tbody tr th:only-of-type {\n",
       "        vertical-align: middle;\n",
       "    }\n",
       "\n",
       "    .dataframe tbody tr th {\n",
       "        vertical-align: top;\n",
       "    }\n",
       "\n",
       "    .dataframe thead th {\n",
       "        text-align: right;\n",
       "    }\n",
       "</style>\n",
       "<table border=\"1\" class=\"dataframe\">\n",
       "  <thead>\n",
       "    <tr style=\"text-align: right;\">\n",
       "      <th></th>\n",
       "      <th>Id</th>\n",
       "      <th>ProductId</th>\n",
       "      <th>UserId</th>\n",
       "      <th>ProfileName</th>\n",
       "      <th>HelpfulnessNumerator</th>\n",
       "      <th>HelpfulnessDenominator</th>\n",
       "      <th>Score</th>\n",
       "      <th>Time</th>\n",
       "      <th>Summary</th>\n",
       "      <th>Text</th>\n",
       "    </tr>\n",
       "  </thead>\n",
       "  <tbody>\n",
       "    <tr>\n",
       "      <th>0</th>\n",
       "      <td>1</td>\n",
       "      <td>B001E4KFG0</td>\n",
       "      <td>A3SGXH7AUHU8GW</td>\n",
       "      <td>delmartian</td>\n",
       "      <td>1</td>\n",
       "      <td>1</td>\n",
       "      <td>5</td>\n",
       "      <td>1303862400</td>\n",
       "      <td>Good Quality Dog Food</td>\n",
       "      <td>I have bought several of the Vitality canned d...</td>\n",
       "    </tr>\n",
       "    <tr>\n",
       "      <th>1</th>\n",
       "      <td>2</td>\n",
       "      <td>B00813GRG4</td>\n",
       "      <td>A1D87F6ZCVE5NK</td>\n",
       "      <td>dll pa</td>\n",
       "      <td>0</td>\n",
       "      <td>0</td>\n",
       "      <td>1</td>\n",
       "      <td>1346976000</td>\n",
       "      <td>Not as Advertised</td>\n",
       "      <td>Product arrived labeled as Jumbo Salted Peanut...</td>\n",
       "    </tr>\n",
       "    <tr>\n",
       "      <th>2</th>\n",
       "      <td>3</td>\n",
       "      <td>B000LQOCH0</td>\n",
       "      <td>ABXLMWJIXXAIN</td>\n",
       "      <td>Natalia Corres \"Natalia Corres\"</td>\n",
       "      <td>1</td>\n",
       "      <td>1</td>\n",
       "      <td>4</td>\n",
       "      <td>1219017600</td>\n",
       "      <td>\"Delight\" says it all</td>\n",
       "      <td>This is a confection that has been around a fe...</td>\n",
       "    </tr>\n",
       "    <tr>\n",
       "      <th>3</th>\n",
       "      <td>4</td>\n",
       "      <td>B000UA0QIQ</td>\n",
       "      <td>A395BORC6FGVXV</td>\n",
       "      <td>Karl</td>\n",
       "      <td>3</td>\n",
       "      <td>3</td>\n",
       "      <td>2</td>\n",
       "      <td>1307923200</td>\n",
       "      <td>Cough Medicine</td>\n",
       "      <td>If you are looking for the secret ingredient i...</td>\n",
       "    </tr>\n",
       "    <tr>\n",
       "      <th>4</th>\n",
       "      <td>5</td>\n",
       "      <td>B006K2ZZ7K</td>\n",
       "      <td>A1UQRSCLF8GW1T</td>\n",
       "      <td>Michael D. Bigham \"M. Wassir\"</td>\n",
       "      <td>0</td>\n",
       "      <td>0</td>\n",
       "      <td>5</td>\n",
       "      <td>1350777600</td>\n",
       "      <td>Great taffy</td>\n",
       "      <td>Great taffy at a great price.  There was a wid...</td>\n",
       "    </tr>\n",
       "  </tbody>\n",
       "</table>\n",
       "</div>"
      ],
      "text/plain": [
       "   Id   ProductId          UserId                      ProfileName  \\\n",
       "0   1  B001E4KFG0  A3SGXH7AUHU8GW                       delmartian   \n",
       "1   2  B00813GRG4  A1D87F6ZCVE5NK                           dll pa   \n",
       "2   3  B000LQOCH0   ABXLMWJIXXAIN  Natalia Corres \"Natalia Corres\"   \n",
       "3   4  B000UA0QIQ  A395BORC6FGVXV                             Karl   \n",
       "4   5  B006K2ZZ7K  A1UQRSCLF8GW1T    Michael D. Bigham \"M. Wassir\"   \n",
       "\n",
       "   HelpfulnessNumerator  HelpfulnessDenominator  Score        Time  \\\n",
       "0                     1                       1      5  1303862400   \n",
       "1                     0                       0      1  1346976000   \n",
       "2                     1                       1      4  1219017600   \n",
       "3                     3                       3      2  1307923200   \n",
       "4                     0                       0      5  1350777600   \n",
       "\n",
       "                 Summary                                               Text  \n",
       "0  Good Quality Dog Food  I have bought several of the Vitality canned d...  \n",
       "1      Not as Advertised  Product arrived labeled as Jumbo Salted Peanut...  \n",
       "2  \"Delight\" says it all  This is a confection that has been around a fe...  \n",
       "3         Cough Medicine  If you are looking for the secret ingredient i...  \n",
       "4            Great taffy  Great taffy at a great price.  There was a wid...  "
      ]
     },
     "execution_count": 2,
     "metadata": {},
     "output_type": "execute_result"
    }
   ],
   "source": [
    "#read the data\n",
    "reviews=pd.read_csv(\"Reviews.csv\", encoding = \"ISO-8859-1\")\n",
    "reviews=reviews[:40000]\n",
    "reviews.head()"
   ]
  },
  {
   "cell_type": "code",
   "execution_count": 3,
   "metadata": {
    "scrolled": true
   },
   "outputs": [
    {
     "data": {
      "text/html": [
       "<div>\n",
       "<style scoped>\n",
       "    .dataframe tbody tr th:only-of-type {\n",
       "        vertical-align: middle;\n",
       "    }\n",
       "\n",
       "    .dataframe tbody tr th {\n",
       "        vertical-align: top;\n",
       "    }\n",
       "\n",
       "    .dataframe thead th {\n",
       "        text-align: right;\n",
       "    }\n",
       "</style>\n",
       "<table border=\"1\" class=\"dataframe\">\n",
       "  <thead>\n",
       "    <tr style=\"text-align: right;\">\n",
       "      <th></th>\n",
       "      <th>Id</th>\n",
       "      <th>ProductId</th>\n",
       "      <th>UserId</th>\n",
       "      <th>ProfileName</th>\n",
       "      <th>HelpfulnessNumerator</th>\n",
       "      <th>HelpfulnessDenominator</th>\n",
       "      <th>Score</th>\n",
       "      <th>Time</th>\n",
       "      <th>Summary</th>\n",
       "      <th>Text</th>\n",
       "    </tr>\n",
       "  </thead>\n",
       "  <tbody>\n",
       "    <tr>\n",
       "      <th>0</th>\n",
       "      <td>1</td>\n",
       "      <td>B001E4KFG0</td>\n",
       "      <td>A3SGXH7AUHU8GW</td>\n",
       "      <td>delmartian</td>\n",
       "      <td>1</td>\n",
       "      <td>1</td>\n",
       "      <td>1</td>\n",
       "      <td>1303862400</td>\n",
       "      <td>Good Quality Dog Food</td>\n",
       "      <td>I have bought several of the Vitality canned d...</td>\n",
       "    </tr>\n",
       "    <tr>\n",
       "      <th>1</th>\n",
       "      <td>2</td>\n",
       "      <td>B00813GRG4</td>\n",
       "      <td>A1D87F6ZCVE5NK</td>\n",
       "      <td>dll pa</td>\n",
       "      <td>0</td>\n",
       "      <td>0</td>\n",
       "      <td>0</td>\n",
       "      <td>1346976000</td>\n",
       "      <td>Not as Advertised</td>\n",
       "      <td>Product arrived labeled as Jumbo Salted Peanut...</td>\n",
       "    </tr>\n",
       "    <tr>\n",
       "      <th>2</th>\n",
       "      <td>3</td>\n",
       "      <td>B000LQOCH0</td>\n",
       "      <td>ABXLMWJIXXAIN</td>\n",
       "      <td>Natalia Corres \"Natalia Corres\"</td>\n",
       "      <td>1</td>\n",
       "      <td>1</td>\n",
       "      <td>1</td>\n",
       "      <td>1219017600</td>\n",
       "      <td>\"Delight\" says it all</td>\n",
       "      <td>This is a confection that has been around a fe...</td>\n",
       "    </tr>\n",
       "    <tr>\n",
       "      <th>3</th>\n",
       "      <td>4</td>\n",
       "      <td>B000UA0QIQ</td>\n",
       "      <td>A395BORC6FGVXV</td>\n",
       "      <td>Karl</td>\n",
       "      <td>3</td>\n",
       "      <td>3</td>\n",
       "      <td>0</td>\n",
       "      <td>1307923200</td>\n",
       "      <td>Cough Medicine</td>\n",
       "      <td>If you are looking for the secret ingredient i...</td>\n",
       "    </tr>\n",
       "    <tr>\n",
       "      <th>4</th>\n",
       "      <td>5</td>\n",
       "      <td>B006K2ZZ7K</td>\n",
       "      <td>A1UQRSCLF8GW1T</td>\n",
       "      <td>Michael D. Bigham \"M. Wassir\"</td>\n",
       "      <td>0</td>\n",
       "      <td>0</td>\n",
       "      <td>1</td>\n",
       "      <td>1350777600</td>\n",
       "      <td>Great taffy</td>\n",
       "      <td>Great taffy at a great price.  There was a wid...</td>\n",
       "    </tr>\n",
       "  </tbody>\n",
       "</table>\n",
       "</div>"
      ],
      "text/plain": [
       "   Id   ProductId          UserId                      ProfileName  \\\n",
       "0   1  B001E4KFG0  A3SGXH7AUHU8GW                       delmartian   \n",
       "1   2  B00813GRG4  A1D87F6ZCVE5NK                           dll pa   \n",
       "2   3  B000LQOCH0   ABXLMWJIXXAIN  Natalia Corres \"Natalia Corres\"   \n",
       "3   4  B000UA0QIQ  A395BORC6FGVXV                             Karl   \n",
       "4   5  B006K2ZZ7K  A1UQRSCLF8GW1T    Michael D. Bigham \"M. Wassir\"   \n",
       "\n",
       "   HelpfulnessNumerator  HelpfulnessDenominator  Score        Time  \\\n",
       "0                     1                       1      1  1303862400   \n",
       "1                     0                       0      0  1346976000   \n",
       "2                     1                       1      1  1219017600   \n",
       "3                     3                       3      0  1307923200   \n",
       "4                     0                       0      1  1350777600   \n",
       "\n",
       "                 Summary                                               Text  \n",
       "0  Good Quality Dog Food  I have bought several of the Vitality canned d...  \n",
       "1      Not as Advertised  Product arrived labeled as Jumbo Salted Peanut...  \n",
       "2  \"Delight\" says it all  This is a confection that has been around a fe...  \n",
       "3         Cough Medicine  If you are looking for the secret ingredient i...  \n",
       "4            Great taffy  Great taffy at a great price.  There was a wid...  "
      ]
     },
     "execution_count": 3,
     "metadata": {},
     "output_type": "execute_result"
    }
   ],
   "source": [
    "#Lets convert our sccores to three labels 0,1,2 for , negative(score<3),Positive(score>3),neutral(score==3)\n",
    "def label(x):\n",
    "    if x>3:\n",
    "        return 1\n",
    "    elif x<3:\n",
    "        return 0\n",
    "    elif x==3:\n",
    "        return 2\n",
    "reviews[\"Score\"]=reviews[\"Score\"].map(label)\n",
    "reviews.head()"
   ]
  },
  {
   "cell_type": "code",
   "execution_count": 4,
   "metadata": {
    "scrolled": true
   },
   "outputs": [
    {
     "data": {
      "text/html": [
       "<div>\n",
       "<style scoped>\n",
       "    .dataframe tbody tr th:only-of-type {\n",
       "        vertical-align: middle;\n",
       "    }\n",
       "\n",
       "    .dataframe tbody tr th {\n",
       "        vertical-align: top;\n",
       "    }\n",
       "\n",
       "    .dataframe thead th {\n",
       "        text-align: right;\n",
       "    }\n",
       "</style>\n",
       "<table border=\"1\" class=\"dataframe\">\n",
       "  <thead>\n",
       "    <tr style=\"text-align: right;\">\n",
       "      <th></th>\n",
       "      <th>Id</th>\n",
       "      <th>ProductId</th>\n",
       "      <th>UserId</th>\n",
       "      <th>ProfileName</th>\n",
       "      <th>HelpfulnessNumerator</th>\n",
       "      <th>HelpfulnessDenominator</th>\n",
       "      <th>Score</th>\n",
       "      <th>Time</th>\n",
       "      <th>Summary</th>\n",
       "      <th>Text</th>\n",
       "    </tr>\n",
       "  </thead>\n",
       "  <tbody>\n",
       "    <tr>\n",
       "      <th>29</th>\n",
       "      <td>30</td>\n",
       "      <td>B0001PB9FY</td>\n",
       "      <td>A3HDKO7OW0QNK4</td>\n",
       "      <td>Canadian Fan</td>\n",
       "      <td>1</td>\n",
       "      <td>1</td>\n",
       "      <td>1</td>\n",
       "      <td>1107820800</td>\n",
       "      <td>The Best Hot Sauce in the World</td>\n",
       "      <td>I don't know if it's the cactus or the tequila...</td>\n",
       "    </tr>\n",
       "    <tr>\n",
       "      <th>574</th>\n",
       "      <td>575</td>\n",
       "      <td>B000G6RYNE</td>\n",
       "      <td>A3PJZ8TU8FDQ1K</td>\n",
       "      <td>Jared Castle</td>\n",
       "      <td>2</td>\n",
       "      <td>2</td>\n",
       "      <td>1</td>\n",
       "      <td>1231718400</td>\n",
       "      <td>One bite and you'll become a \"chippoisseur\"</td>\n",
       "      <td>I'm addicted to salty and tangy flavors, so wh...</td>\n",
       "    </tr>\n",
       "    <tr>\n",
       "      <th>1973</th>\n",
       "      <td>1974</td>\n",
       "      <td>B0017165OG</td>\n",
       "      <td>A2EPNS38TTLZYN</td>\n",
       "      <td>tedebear</td>\n",
       "      <td>0</td>\n",
       "      <td>0</td>\n",
       "      <td>2</td>\n",
       "      <td>1312675200</td>\n",
       "      <td>Pok Chops</td>\n",
       "      <td>The pork chops from Omaha Steaks were very tas...</td>\n",
       "    </tr>\n",
       "    <tr>\n",
       "      <th>2309</th>\n",
       "      <td>2310</td>\n",
       "      <td>B0001VWE0M</td>\n",
       "      <td>AQM74O8Z4FMS0</td>\n",
       "      <td>Sunshine</td>\n",
       "      <td>0</td>\n",
       "      <td>0</td>\n",
       "      <td>0</td>\n",
       "      <td>1127606400</td>\n",
       "      <td>Below standard</td>\n",
       "      <td>Too much of the white pith on this orange peel...</td>\n",
       "    </tr>\n",
       "    <tr>\n",
       "      <th>2323</th>\n",
       "      <td>2324</td>\n",
       "      <td>B0001VWE0C</td>\n",
       "      <td>AQM74O8Z4FMS0</td>\n",
       "      <td>Sunshine</td>\n",
       "      <td>0</td>\n",
       "      <td>0</td>\n",
       "      <td>0</td>\n",
       "      <td>1127606400</td>\n",
       "      <td>Below standard</td>\n",
       "      <td>Too much of the white pith on this orange peel...</td>\n",
       "    </tr>\n",
       "    <tr>\n",
       "      <th>...</th>\n",
       "      <td>...</td>\n",
       "      <td>...</td>\n",
       "      <td>...</td>\n",
       "      <td>...</td>\n",
       "      <td>...</td>\n",
       "      <td>...</td>\n",
       "      <td>...</td>\n",
       "      <td>...</td>\n",
       "      <td>...</td>\n",
       "      <td>...</td>\n",
       "    </tr>\n",
       "    <tr>\n",
       "      <th>39976</th>\n",
       "      <td>39977</td>\n",
       "      <td>B001TZJ3OE</td>\n",
       "      <td>A3908E1G8IL52G</td>\n",
       "      <td>Jessica Ztardust</td>\n",
       "      <td>1</td>\n",
       "      <td>2</td>\n",
       "      <td>1</td>\n",
       "      <td>1312243200</td>\n",
       "      <td>Highly Addicting!</td>\n",
       "      <td>I did not purchase this product off of Amazon....</td>\n",
       "    </tr>\n",
       "    <tr>\n",
       "      <th>39977</th>\n",
       "      <td>39978</td>\n",
       "      <td>B001TZJ3OE</td>\n",
       "      <td>AF1PV3DIC0XM7</td>\n",
       "      <td>Robert Ashton</td>\n",
       "      <td>1</td>\n",
       "      <td>2</td>\n",
       "      <td>1</td>\n",
       "      <td>1081555200</td>\n",
       "      <td>Classic Condiment</td>\n",
       "      <td>Mae Ploy Sweet Chili Sauce is becoming a stand...</td>\n",
       "    </tr>\n",
       "    <tr>\n",
       "      <th>39978</th>\n",
       "      <td>39979</td>\n",
       "      <td>B001TZJ3OE</td>\n",
       "      <td>A1VTHOTQFPRFVT</td>\n",
       "      <td>jumperboy</td>\n",
       "      <td>0</td>\n",
       "      <td>1</td>\n",
       "      <td>2</td>\n",
       "      <td>1301961600</td>\n",
       "      <td>Just Okay, Too Sweet</td>\n",
       "      <td>I was excited to try this sauce based on the r...</td>\n",
       "    </tr>\n",
       "    <tr>\n",
       "      <th>39979</th>\n",
       "      <td>39980</td>\n",
       "      <td>B001TZJ3OE</td>\n",
       "      <td>AAJ1IYOUIHWF</td>\n",
       "      <td>D. Sun</td>\n",
       "      <td>1</td>\n",
       "      <td>11</td>\n",
       "      <td>2</td>\n",
       "      <td>1243036800</td>\n",
       "      <td>Too much</td>\n",
       "      <td>These are very large bottles. It is a good dip...</td>\n",
       "    </tr>\n",
       "    <tr>\n",
       "      <th>39980</th>\n",
       "      <td>39981</td>\n",
       "      <td>B001TZJ3OE</td>\n",
       "      <td>A3E3YJO2V3YZUM</td>\n",
       "      <td>Lidgemeister</td>\n",
       "      <td>2</td>\n",
       "      <td>15</td>\n",
       "      <td>0</td>\n",
       "      <td>1295481600</td>\n",
       "      <td>Guess I'm in the Minority</td>\n",
       "      <td>I was looking for a good sweet and sour sauce ...</td>\n",
       "    </tr>\n",
       "  </tbody>\n",
       "</table>\n",
       "<p>2548 rows × 10 columns</p>\n",
       "</div>"
      ],
      "text/plain": [
       "          Id   ProductId          UserId       ProfileName  \\\n",
       "29        30  B0001PB9FY  A3HDKO7OW0QNK4      Canadian Fan   \n",
       "574      575  B000G6RYNE  A3PJZ8TU8FDQ1K      Jared Castle   \n",
       "1973    1974  B0017165OG  A2EPNS38TTLZYN          tedebear   \n",
       "2309    2310  B0001VWE0M   AQM74O8Z4FMS0          Sunshine   \n",
       "2323    2324  B0001VWE0C   AQM74O8Z4FMS0          Sunshine   \n",
       "...      ...         ...             ...               ...   \n",
       "39976  39977  B001TZJ3OE  A3908E1G8IL52G  Jessica Ztardust   \n",
       "39977  39978  B001TZJ3OE   AF1PV3DIC0XM7     Robert Ashton   \n",
       "39978  39979  B001TZJ3OE  A1VTHOTQFPRFVT         jumperboy   \n",
       "39979  39980  B001TZJ3OE    AAJ1IYOUIHWF            D. Sun   \n",
       "39980  39981  B001TZJ3OE  A3E3YJO2V3YZUM      Lidgemeister   \n",
       "\n",
       "       HelpfulnessNumerator  HelpfulnessDenominator  Score        Time  \\\n",
       "29                        1                       1      1  1107820800   \n",
       "574                       2                       2      1  1231718400   \n",
       "1973                      0                       0      2  1312675200   \n",
       "2309                      0                       0      0  1127606400   \n",
       "2323                      0                       0      0  1127606400   \n",
       "...                     ...                     ...    ...         ...   \n",
       "39976                     1                       2      1  1312243200   \n",
       "39977                     1                       2      1  1081555200   \n",
       "39978                     0                       1      2  1301961600   \n",
       "39979                     1                      11      2  1243036800   \n",
       "39980                     2                      15      0  1295481600   \n",
       "\n",
       "                                           Summary  \\\n",
       "29                 The Best Hot Sauce in the World   \n",
       "574    One bite and you'll become a \"chippoisseur\"   \n",
       "1973                                     Pok Chops   \n",
       "2309                                Below standard   \n",
       "2323                                Below standard   \n",
       "...                                            ...   \n",
       "39976                            Highly Addicting!   \n",
       "39977                            Classic Condiment   \n",
       "39978                         Just Okay, Too Sweet   \n",
       "39979                                     Too much   \n",
       "39980                    Guess I'm in the Minority   \n",
       "\n",
       "                                                    Text  \n",
       "29     I don't know if it's the cactus or the tequila...  \n",
       "574    I'm addicted to salty and tangy flavors, so wh...  \n",
       "1973   The pork chops from Omaha Steaks were very tas...  \n",
       "2309   Too much of the white pith on this orange peel...  \n",
       "2323   Too much of the white pith on this orange peel...  \n",
       "...                                                  ...  \n",
       "39976  I did not purchase this product off of Amazon....  \n",
       "39977  Mae Ploy Sweet Chili Sauce is becoming a stand...  \n",
       "39978  I was excited to try this sauce based on the r...  \n",
       "39979  These are very large bottles. It is a good dip...  \n",
       "39980  I was looking for a good sweet and sour sauce ...  \n",
       "\n",
       "[2548 rows x 10 columns]"
      ]
     },
     "execution_count": 4,
     "metadata": {},
     "output_type": "execute_result"
    }
   ],
   "source": [
    "#lets check if our data is having duplicate values\n",
    "reviews[reviews[[\"UserId\",\"ProfileName\",\"Time\",\"Text\"]].duplicated()]"
   ]
  },
  {
   "cell_type": "code",
   "execution_count": 5,
   "metadata": {},
   "outputs": [
    {
     "name": "stdout",
     "output_type": "stream",
     "text": [
      "Data set size before dropping duplicates (40000, 10)\n",
      "Data set size after dropping duplicates (37452, 10)\n"
     ]
    }
   ],
   "source": [
    "# we can see in the above cell that there are duplicates in our data. Lets drop all of them.\n",
    "print(\"Data set size before dropping duplicates\",reviews.shape)\n",
    "\n",
    "reviews_df = reviews.drop_duplicates(subset={\"UserId\",\"ProfileName\",\"Time\",\"Text\"},keep='first')\n",
    "\n",
    "print(\"Data set size after dropping duplicates\",reviews_df.shape)"
   ]
  },
  {
   "cell_type": "code",
   "execution_count": 6,
   "metadata": {},
   "outputs": [
    {
     "data": {
      "text/plain": [
       "Text     False\n",
       "Score    False\n",
       "dtype: bool"
      ]
     },
     "execution_count": 6,
     "metadata": {},
     "output_type": "execute_result"
    }
   ],
   "source": [
    "#let us find if our data have any missing values\n",
    "# from now on we deal only with Text and Score columns, Text is our feature and score is our label.\n",
    "reviews_df[[\"Text\",\"Score\"]].isnull().any()"
   ]
  },
  {
   "cell_type": "code",
   "execution_count": 7,
   "metadata": {},
   "outputs": [
    {
     "name": "stdout",
     "output_type": "stream",
     "text": [
      "Amount of data retianed is :  0.9363\n"
     ]
    }
   ],
   "source": [
    "print(\"Amount of data retianed is : \", reviews_df.shape[0]/reviews.shape[0])"
   ]
  },
  {
   "cell_type": "code",
   "execution_count": 8,
   "metadata": {},
   "outputs": [],
   "source": [
    "#plt.bar(reviews_df[\"Score\"].unique(),reviews_df[\"Score\"].value_counts())\n",
    "#plt.xticks([0,1,2])\n",
    "#plt.show()"
   ]
  },
  {
   "cell_type": "code",
   "execution_count": 9,
   "metadata": {},
   "outputs": [
    {
     "data": {
      "text/plain": [
       "Text(0.5, 1.0, 'Labels')"
      ]
     },
     "execution_count": 9,
     "metadata": {},
     "output_type": "execute_result"
    },
    {
     "data": {
      "image/png": "[encoded data removed]",
      "text/plain": [
       "<Figure size 432x288 with 1 Axes>"
      ]
     },
     "metadata": {},
     "output_type": "display_data"
    }
   ],
   "source": [
    "plt.pie(reviews_df[\"Score\"].value_counts(),autopct='%1.0f%%',radius=2,labels=reviews_df[\"Score\"].unique(),colors=[\"g\",\"r\",\"y\"])\n",
    "plt.title(\"Labels\")"
   ]
  },
  {
   "cell_type": "markdown",
   "metadata": {},
   "source": [
    "#### Observations:\n",
    "1. After removing duplicates and missing values we were able to retain 93.6% of actual data.\n",
    "2. From the above bar plot we can clearly see that our data is imbalanced, biased towards to class 1(positive)."
   ]
  },
  {
   "cell_type": "markdown",
   "metadata": {},
   "source": [
    "# 3. Data Preprocessing"
   ]
  },
  {
   "cell_type": "code",
   "execution_count": 10,
   "metadata": {},
   "outputs": [
    {
     "data": {
      "text/plain": [
       "\"Instant oatmeal can become soggy the minute the water hits the bowl. McCann's Instant Oatmeal holds its texture, has excellent flavor, and is good for you all at the same time. McCann's regular oat meal is excellent, too, but may take a bit longer to prepare than most have time for in the morning. This is the best instant brand I've ever eaten, and a very close second to the non-instant variety.<br /><br />McCann's Instant Irish Oatmeal, Variety Pack of Regular, Apples & Cinnamon, and Maple & Brown Sugar, 10-Count Boxes (Pack of 6)\""
      ]
     },
     "execution_count": 10,
     "metadata": {},
     "output_type": "execute_result"
    }
   ],
   "source": [
    "#21,15,28\n",
    "review34=reviews_df[\"Text\"][34]\n",
    "review34"
   ]
  },
  {
   "cell_type": "code",
   "execution_count": 11,
   "metadata": {},
   "outputs": [
    {
     "name": "stderr",
     "output_type": "stream",
     "text": [
      "[nltk_data] Downloading package stopwords to\n",
      "[nltk_data]     C:\\Users\\pc\\AppData\\Roaming\\nltk_data...\n",
      "[nltk_data]   Package stopwords is already up-to-date!\n"
     ]
    }
   ],
   "source": [
    "import nltk\n",
    "from nltk.stem import PorterStemmer\n",
    "from nltk.tokenize import word_tokenize\n",
    "from nltk.corpus import stopwords\n",
    "nltk.download('stopwords')\n",
    "stop_words = set(stopwords.words('english'))\n",
    "reviews_df=reviews_df[[\"Text\",\"Score\"]]\n"
   ]
  },
  {
   "cell_type": "code",
   "execution_count": 12,
   "metadata": {},
   "outputs": [
    {
     "name": "stdout",
     "output_type": "stream",
     "text": [
      "{'ours', 'aren', \"shan't\", 'has', 's', 'while', 'by', 'shan', 'if', 'because', 'as', \"mightn't\", 'same', 't', 'is', 'some', 'after', 'more', 'through', 'into', 'than', \"she's\", 'nor', 'there', 'mightn', 'with', 'in', 'and', 'can', 'ain', 'again', 'do', 'their', 'be', 'should', 'didn', 'herself', 'so', 'just', 'she', 'down', 'his', 'how', 'any', \"shouldn't\", 'couldn', 'these', 'yours', \"couldn't\", 'needn', 'hers', \"isn't\", 'an', 'isn', 'we', 'your', \"that'll\", 'doing', 'above', 'those', 'before', 'll', \"hadn't\", \"haven't\", 'o', 'who', 'further', 'only', 'whom', 'd', 'doesn', 'having', 'theirs', 'they', 'itself', 'am', 'were', \"wouldn't\", \"won't\", 'hadn', 'myself', 'where', 'for', 'then', 'to', 'most', 'my', 'own', 'i', 'against', 'of', 'up', 'ourselves', 'had', 'off', 'he', \"needn't\", 'which', 'both', 'it', 'him', 'about', 'when', 'very', 'yourself', 'you', 'why', \"don't\", 'under', 'did', \"you've\", 'weren', 'such', 'y', 'what', 'wouldn', 'during', 'm', 'been', 'themselves', 'them', 'all', 'won', 'between', \"mustn't\", 'once', 'have', 'ma', 'our', \"it's\", 'over', 'or', 'not', 'yourselves', 'was', 'does', 'on', 'shouldn', 'are', 'here', 'too', \"should've\", 'below', 'haven', \"aren't\", 'hasn', 'its', 'now', \"wasn't\", 'her', 'no', 'but', 'will', 'wasn', 'out', 've', 'don', \"didn't\", \"you're\", 'himself', 'that', 'until', 'mustn', 're', 'a', \"you'd\", 'other', 'being', 'the', \"you'll\", 'at', 'few', 'from', 'each', \"hasn't\", \"weren't\", 'this', \"doesn't\", 'me'}\n"
     ]
    }
   ],
   "source": [
    "print(stop_words)"
   ]
  },
  {
   "cell_type": "code",
   "execution_count": 13,
   "metadata": {},
   "outputs": [],
   "source": [
    "#let us remove word not from stop words, since it is the one of the most important word in classifing the review.\n",
    "stop_words.remove(\"not\")"
   ]
  },
  {
   "cell_type": "code",
   "execution_count": 14,
   "metadata": {},
   "outputs": [],
   "source": [
    "def text_Preprocessing(reviews):\n",
    "    \n",
    "    \n",
    "    \"\"\" This will clean the text data, remove html tags, remove special characters and then tokenize the reviews to apply Stemmer on each word token.\"\"\"\n",
    "    \n",
    "    pre_processed_reviews=[]\n",
    "    \n",
    "    for review in tqdm(reviews):\n",
    "        review= BeautifulSoup(review,'lxml').getText()    #remove html tags\n",
    "        review=re.sub('\\S*\\d\\S*','',review).strip()\n",
    "        review=re.sub('[^A-Za-z]+',' ',review)        #remove special chars\n",
    "        review=re.sub(\"n't\",\"not\",review)\n",
    "        review=word_tokenize(str(review.lower())) #tokenize the reviews into word tokens\n",
    "\n",
    "        # now we will split the review into words and then check if these words are in the stop words if so we will remove them, if not we will join\n",
    "        review=' '.join(PorterStemmer().stem(word) for word in review if word not in stop_words)\n",
    "        pre_processed_reviews.append(review.strip())\n",
    "    return pre_processed_reviews"
   ]
  },
  {
   "cell_type": "code",
   "execution_count": null,
   "metadata": {
    "scrolled": false
   },
   "outputs": [
    {
     "name": "stderr",
     "output_type": "stream",
     "text": [
      "  7%|▋         | 2492/37452 [00:14<04:07, 141.21it/s]"
     ]
    }
   ],
   "source": [
    "preprocessed_reviews=text_Preprocessing(reviews_df[\"Text\"])\n",
    "preprocessed_reviews[34]"
   ]
  },
  {
   "cell_type": "code",
   "execution_count": null,
   "metadata": {},
   "outputs": [],
   "source": [
    "preprocessed_reviews=pd.DataFrame({\"text\":preprocessed_reviews,\"sentiment\":reviews_df.Score})\n",
    "preprocessed_reviews.head()"
   ]
  },
  {
   "cell_type": "code",
   "execution_count": null,
   "metadata": {},
   "outputs": [],
   "source": [
    "preprocessed_reviews.sentiment.value_counts()    #1-positive-28875    # 0-5597   #2-nuetral-2980"
   ]
  },
  {
   "cell_type": "markdown",
   "metadata": {},
   "source": [
    "Observations:\n",
    "1. we cleaned our text data, removed unnecessary tags\n",
    "2. Though we cleaned our data, it is still in string format which computers won't understand, for this we use text featuration."
   ]
  },
  {
   "cell_type": "markdown",
   "metadata": {},
   "source": [
    "### 3.1.Featurization"
   ]
  },
  {
   "cell_type": "code",
   "execution_count": null,
   "metadata": {},
   "outputs": [],
   "source": [
    "#It is best practice to split the data Before we do text featurization \n",
    "reviews_train,reviews_test,sentiment_train,sentiment_test=train_test_split(preprocessed_reviews.text,preprocessed_reviews.sentiment)\n",
    "print(reviews_train.shape,reviews_test.shape)\n",
    "print(sentiment_train.shape,sentiment_test.shape)"
   ]
  },
  {
   "cell_type": "code",
   "execution_count": null,
   "metadata": {},
   "outputs": [],
   "source": [
    "tfidf_model=TfidfVectorizer(ngram_range=(1,2),min_df=10, max_features=6000)\n",
    "tfidf_model.fit(reviews_train,sentiment_train)\n",
    "reviews_train_tfidf=tfidf_model.transform(reviews_train)\n",
    "reviews_test_tfidf=tfidf_model.transform(reviews_test)\n",
    "reviews_train_tfidf.shape,reviews_test_tfidf.shape"
   ]
  },
  {
   "cell_type": "code",
   "execution_count": null,
   "metadata": {},
   "outputs": [],
   "source": [
    "tfidf_df=pd.DataFrame(reviews_train_tfidf.toarray(),columns=tfidf_model.get_feature_names(),index=reviews_train.index)\n",
    "tfidf_df"
   ]
  },
  {
   "cell_type": "code",
   "execution_count": null,
   "metadata": {},
   "outputs": [],
   "source": [
    "# Lets checkout the top features\n",
    "top_features=sorted(zip(tfidf_model.idf_,tfidf_model.get_feature_names()))\n",
    "top10=top_features[:10]\n"
   ]
  },
  {
   "cell_type": "code",
   "execution_count": null,
   "metadata": {},
   "outputs": [],
   "source": [
    "from wordcloud import WordCloud\n",
    "plt.figure(figsize=(10,8))\n",
    "wc = WordCloud(background_color=\"black\",max_font_size=150, random_state=42)\n",
    "wc.generate(str(top10))\n",
    "plt.imshow(wc, interpolation='bilinear')\n",
    "plt.suptitle('Top 10 words', size=30, y=0.88,color=\"r\"); \n",
    "plt.axis(\"off\")\n",
    "plt.savefig(\"top10_words.png\")\n",
    "plt.show()"
   ]
  },
  {
   "cell_type": "markdown",
   "metadata": {},
   "source": [
    "# 4. Modeling"
   ]
  },
  {
   "cell_type": "markdown",
   "metadata": {},
   "source": [
    "## 4.1. Logistic regression"
   ]
  },
  {
   "cell_type": "code",
   "execution_count": null,
   "metadata": {},
   "outputs": [],
   "source": [
    "# Logistic Regression with default parameters\n",
    "lr=LogisticRegression(max_iter=1000)\n",
    "lr.fit(reviews_train_tfidf,sentiment_train)\n",
    "lr_predict=lr.predict(reviews_test_tfidf)\n",
    "plain_lr_f1=f1_score(sentiment_test,lr_predict,average=\"weighted\")\n",
    "plain_lr_f1"
   ]
  },
  {
   "cell_type": "code",
   "execution_count": null,
   "metadata": {},
   "outputs": [],
   "source": [
    "plot_confusion_matrix(sentiment_test,lr_predict,normalize=True)\n",
    "plt.title(\"Linear Regression with defult params\")\n",
    "plt.show()"
   ]
  },
  {
   "cell_type": "code",
   "execution_count": null,
   "metadata": {},
   "outputs": [],
   "source": [
    "from imblearn.over_sampling import SMOTE\n",
    "# Resample the minority class. You can change the strategy to 'auto' if you are not sure.\n",
    "sm = SMOTE(sampling_strategy='auto', random_state=7)\n",
    "\n",
    "oversampled_trainX, oversampled_trainY = sm.fit_resample(reviews_train_tfidf,sentiment_train)\n",
    "oversampled_trainY.value_counts()"
   ]
  },
  {
   "cell_type": "code",
   "execution_count": null,
   "metadata": {},
   "outputs": [],
   "source": [
    "# we will tune the parameters of Logistic Regression with RandomizedsearchCV\n",
    "lr_params={\"penalty\":[\"l1\",\"l2\"],\n",
    "           \"C\":[10**i for i in range(-4,4)]}\n",
    "lr=LogisticRegression( max_iter=1000,solver=\"liblinear\")\n",
    "lr_rnm_clf=RandomizedSearchCV(lr,lr_params)\n",
    "lr_rnm_clf.fit(oversampled_trainX,oversampled_trainY)\n",
    "lr_rnm_clf.best_params_"
   ]
  },
  {
   "cell_type": "code",
   "execution_count": null,
   "metadata": {},
   "outputs": [],
   "source": [
    "lr_bal=LogisticRegression(**lr_rnm_clf.best_params_, max_iter=1000,solver=\"liblinear\")\n",
    "lr_bal.fit(oversampled_trainX,oversampled_trainY)\n",
    "lr_bal_predict=lr_bal.predict(reviews_test_tfidf)\n",
    "lr_bal_f1=f1_score(lr_bal_predict,sentiment_test,average=\"weighted\")\n",
    "lr_bal_f1"
   ]
  },
  {
   "cell_type": "code",
   "execution_count": null,
   "metadata": {},
   "outputs": [],
   "source": [
    "plot_confusion_matrix(sentiment_test,lr_bal_predict,normalize=True)\n",
    "plt.title(\"Logistic regression Confusion matrix\",size=15)"
   ]
  },
  {
   "cell_type": "markdown",
   "metadata": {},
   "source": [
    "## 4.2. Support Vector Classifier"
   ]
  },
  {
   "cell_type": "code",
   "execution_count": null,
   "metadata": {},
   "outputs": [],
   "source": [
    "from sklearn.svm import LinearSVC\n",
    "svc_params={'penalty':['l1','l2'],\n",
    "        'C':[10**i for i in range(-4,4)]}\n",
    "svc_model=LinearSVC(dual=False,max_iter=5000)\n",
    "rndm_clf=RandomizedSearchCV(svc_model,svc_params)\n",
    "rndm_clf.fit(oversampled_trainX,oversampled_trainY)\n",
    "svc_best_params=rndm_clf.best_estimator_"
   ]
  },
  {
   "cell_type": "code",
   "execution_count": null,
   "metadata": {},
   "outputs": [],
   "source": [
    "svc_best_params"
   ]
  },
  {
   "cell_type": "code",
   "execution_count": null,
   "metadata": {},
   "outputs": [],
   "source": [
    "svc_model=LinearSVC(C=1000, dual=False, max_iter=5000)\n",
    "svc_model.fit(oversampled_trainX,oversampled_trainY)\n",
    "svc_predict=svc_model.predict(reviews_test_tfidf)\n",
    "svc_f1=f1_score(sentiment_test,svc_predict,average=\"weighted\")\n",
    "svc_f1"
   ]
  },
  {
   "cell_type": "code",
   "execution_count": null,
   "metadata": {},
   "outputs": [],
   "source": [
    "plot_confusion_matrix(sentiment_test,svc_predict,normalize=True)\n",
    "plt.title(\"SVC Confuison matrix\",size=18)\n",
    "plt.show()"
   ]
  },
  {
   "cell_type": "markdown",
   "metadata": {},
   "source": [
    "## 4.3. Decision Trees"
   ]
  },
  {
   "cell_type": "code",
   "execution_count": null,
   "metadata": {},
   "outputs": [],
   "source": [
    "from sklearn.tree import DecisionTreeClassifier\n",
    "dt_param={'max_depth':[i for i in range(5,2000,3)],\n",
    "         'min_samples_split':[i for i in range(5,2000,3)]}\n",
    "dt_clf=DecisionTreeClassifier()\n",
    "rndm_clf=RandomizedSearchCV(dt_clf,dt_param)\n",
    "rndm_clf.fit(oversampled_trainX,oversampled_trainY)\n",
    "dt_best_params=rndm_clf.best_params_"
   ]
  },
  {
   "cell_type": "code",
   "execution_count": null,
   "metadata": {},
   "outputs": [],
   "source": [
    "dt_clf=DecisionTreeClassifier(**dt_best_params)\n",
    "dt_clf.fit(oversampled_trainX,oversampled_trainY)\n",
    "dt_predict=dt_clf.predict(reviews_test_tfidf)\n",
    "dt_f1=f1_score(sentiment_test,svc_predict,average=\"weighted\")\n",
    "dt_f1"
   ]
  },
  {
   "cell_type": "code",
   "execution_count": null,
   "metadata": {},
   "outputs": [],
   "source": [
    "plot_confusion_matrix(sentiment_test,dt_predict,normalize=True)\n",
    "plt.title(\"Decision Tree Confuison matrix\",size=18)\n"
   ]
  },
  {
   "cell_type": "markdown",
   "metadata": {},
   "source": [
    "## 4.4. Naive Bayes:"
   ]
  },
  {
   "cell_type": "code",
   "execution_count": null,
   "metadata": {},
   "outputs": [],
   "source": [
    "nb_params={\"alpha\":[10**i for i in range(-5,5)]}\n",
    "nb_clf=MultinomialNB()\n",
    "rndm_clf=RandomizedSearchCV(nb_clf,nb_params)\n",
    "#rndm_clf.fit(oversampled_trainX,oversampled_trainY)\n",
    "rndm_clf.fit(oversampled_trainX,oversampled_trainY)\n",
    "nb_best_params=rndm_clf.best_params_\n",
    "\n",
    "nb_clf=MultinomialNB(**nb_best_params)\n",
    "nb_clf.fit(oversampled_trainX,oversampled_trainY)\n",
    "nb_predict=nb_clf.predict(reviews_test_tfidf)\n",
    "nb_f1=f1_score(sentiment_test,nb_predict,average=\"weighted\")\n",
    "nb_f1"
   ]
  },
  {
   "cell_type": "code",
   "execution_count": null,
   "metadata": {},
   "outputs": [],
   "source": [
    "plot_confusion_matrix(sentiment_test,nb_predict,normalize=True,cmap=\"Reds\")\n",
    "plt.title(\"Naive Bayes Confusion Matrix\",size=15)"
   ]
  },
  {
   "cell_type": "markdown",
   "metadata": {},
   "source": [
    "## 4.5. Random Forrests"
   ]
  },
  {
   "cell_type": "code",
   "execution_count": null,
   "metadata": {},
   "outputs": [],
   "source": [
    "from sklearn.ensemble import RandomForestClassifier\n",
    "param_rf={'max_depth':[2,3,4,5,6,7,8,9,10],'n_estimators':[i for i in range(1,1000,5)]}\n",
    "clf=RandomForestClassifier()\n",
    "rndm_clf=RandomizedSearchCV(clf,param_rf)\n",
    "rndm_clf.fit(oversampled_trainX,oversampled_trainY)\n",
    "rf_best_params=rndm_clf.best_params_\n"
   ]
  },
  {
   "cell_type": "code",
   "execution_count": null,
   "metadata": {},
   "outputs": [],
   "source": [
    "rf_clf=RandomForestClassifier(**rf_best_params,class_weight='balanced')\n",
    "rf_clf.fit(oversampled_trainX,oversampled_trainY)\n",
    "rf_predict=rf_clf.predict(reviews_test_tfidf)"
   ]
  },
  {
   "cell_type": "code",
   "execution_count": null,
   "metadata": {},
   "outputs": [],
   "source": [
    "plot_confusion_matrix(sentiment_test,rf_predict,normalize=True)\n",
    "plt.title(\"Random forrests Confusion Matrix\",size=15)"
   ]
  },
  {
   "cell_type": "code",
   "execution_count": null,
   "metadata": {},
   "outputs": [],
   "source": [
    "rf_f1=f1_score(sentiment_test,rf_predict,average=\"weighted\")\n",
    "rf_f1"
   ]
  },
  {
   "cell_type": "markdown",
   "metadata": {},
   "source": [
    "# 5. Model evaluation:\n",
    "    "
   ]
  },
  {
   "cell_type": "code",
   "execution_count": null,
   "metadata": {},
   "outputs": [],
   "source": [
    "models=[\"LinearRegression\",\"DecisionTrees\",\"SVM\",\"NaiveBayes\",\"Random Forrests\"]\n",
    "f1_scores=[lr_bal_f1,dt_f1,svc_f1,nb_f1,rf_f1]"
   ]
  },
  {
   "cell_type": "code",
   "execution_count": null,
   "metadata": {},
   "outputs": [],
   "source": [
    "plt.figure(figsize=(6,5))\n",
    "plt.barh(models,f1_scores,color=['c','r','m','y','b'])\n",
    "plt.title(\"F1 Scores of all models\",size=20)\n",
    "for index, value in enumerate(f1_scores):\n",
    "    plt.text(0.9,index,str(round(value,2)))\n",
    "plt.xlabel('F1_SCores',size=15)\n",
    "plt.ylabel(\"Models\",size=15)\n",
    "plt.savefig(\"f1_scores.png\")\n",
    "plt.show()\n"
   ]
  },
  {
   "cell_type": "code",
   "execution_count": null,
   "metadata": {},
   "outputs": [],
   "source": [
    "#After evaluating all model we have found that svm and decision tree are two best suited models for our project .\n"
   ]
  },
  {
   "cell_type": "code",
   "execution_count": 44,
   "metadata": {
    "scrolled": true
   },
   "outputs": [],
   "source": [
    "# lets save the model\n",
    "import pickle\n",
    "pickle.dump(svc_model,open(\"nb_clf.pkl\",\"wb\"))\n",
    "pickle.dump(tfidf_model,open(\"tfidf_model.pkl\",\"wb\"))"
   ]
  },
  {
   "cell_type": "code",
   "execution_count": null,
   "metadata": {},
   "outputs": [],
   "source": [
    "#After evaluating all model we have found that svm and decision tree are two best suited models for our project .\n"
   ]
  },
  {
   "cell_type": "code",
   "execution_count": null,
   "metadata": {},
   "outputs": [],
   "source": []
  }
 ],
 "metadata": {
  "kernelspec": {
   "display_name": "Python 3",
   "language": "python",
   "name": "python3"
  },
  "language_info": {
   "codemirror_mode": {
    "name": "ipython",
    "version": 3
   },
   "file_extension": ".py",
   "mimetype": "text/x-python",
   "name": "python",
   "nbconvert_exporter": "python",
   "pygments_lexer": "ipython3",
   "version": "3.8.3"
  }
 },
 "nbformat": 4,
 "nbformat_minor": 2
}
